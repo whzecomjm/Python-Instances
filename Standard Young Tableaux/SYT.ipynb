{
 "cells": [
  {
   "cell_type": "code",
   "execution_count": 2,
   "metadata": {},
   "outputs": [
    {
     "name": "stdout",
     "output_type": "stream",
     "text": [
      "([[1, 3, 4], [2, 5]], [[1, 2, 3], [4, 5]])\n",
      "([[1, 2, 3], [4, 5]], [[1, 3, 4], [2, 5]])\n"
     ]
    }
   ],
   "source": [
    "## cf. MO Implementation of the Robinson-Schensted Correspondence\n",
    "## https://mathoverflow.net/questions/30910/implementation-of-the-robinson-schensted-correspondence\n",
    "\n",
    "from bisect import bisect\n",
    "def RSK(p):\n",
    "    '''Given a permutation p, spit out a pair of Young tableaux'''\n",
    "    P = []; Q = []\n",
    "    def insert(m, n=0):\n",
    "        '''Insert m into P, then place n in Q at the same place'''\n",
    "        for r in range(len(P)):\n",
    "            if m > P[r][-1]:\n",
    "                P[r].append(m); Q[r].append(n)\n",
    "                return\n",
    "            c = bisect(P[r], m)\n",
    "            P[r][c],m = m,P[r][c]\n",
    "        P.append([m])\n",
    "        Q.append([n])\n",
    "\n",
    "    for i in range(len(p)):\n",
    "        insert(int(p[i]), i+1)\n",
    "    return (P,Q)\n",
    "\n",
    "print(RSK('23514'))\n",
    "print(RSK('41253'))"
   ]
  },
  {
   "cell_type": "code",
   "execution_count": null,
   "metadata": {},
   "outputs": [],
   "source": []
  }
 ],
 "metadata": {
  "kernelspec": {
   "display_name": "Python 3",
   "language": "python",
   "name": "python3"
  },
  "language_info": {
   "codemirror_mode": {
    "name": "ipython",
    "version": 3
   },
   "file_extension": ".py",
   "mimetype": "text/x-python",
   "name": "python",
   "nbconvert_exporter": "python",
   "pygments_lexer": "ipython3",
   "version": "3.7.7"
  }
 },
 "nbformat": 4,
 "nbformat_minor": 4
}
