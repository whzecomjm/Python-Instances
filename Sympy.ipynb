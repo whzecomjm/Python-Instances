{
 "cells": [
  {
   "cell_type": "code",
   "execution_count": 7,
   "metadata": {},
   "outputs": [
    {
     "output_type": "execute_result",
     "data": {
      "text/plain": [
       "[Eq(f(x), pi - asin(1/tanh(C1 + x))), Eq(f(x), asin(1/tanh(C1 + x)))]"
      ]
     },
     "metadata": {},
     "execution_count": 7
    }
   ],
   "source": [
    "from sympy import *\n",
    "x = symbols ('x')\n",
    "f = symbols('f', cls=Function)\n",
    "dsolve(f(x).diff(x)- cos(f(x)), f(x))"
   ]
  },
  {
   "cell_type": "code",
   "execution_count": 12,
   "metadata": {},
   "outputs": [
    {
     "output_type": "execute_result",
     "data": {
      "text/plain": [
       "[(-1, 0, 0, -1),\n",
       " (-1, 0, 0, 1),\n",
       " (1, 0, 0, -1),\n",
       " (1, 0, 0, 1),\n",
       " (-d, (1 - d**2)/c, c, d)]"
      ]
     },
     "metadata": {},
     "execution_count": 12
    }
   ],
   "source": [
    "# 计算所有满足 M^2=I 的整系数矩阵, 无法使用这一方法计算 M^3\n",
    "from sympy import *\n",
    "a, b, c, d = symbols('a b c d');\n",
    "M=Matrix([[a,b],[c,d]]);\n",
    "K=M*M\n",
    "N=Matrix([[1,0],[0,1]]);\n",
    "solve(Eq(K,N),(a,b,c,d))"
   ]
  },
  {
   "cell_type": "code",
   "execution_count": null,
   "metadata": {},
   "outputs": [],
   "source": []
  }
 ],
 "metadata": {
  "kernelspec": {
   "name": "python396jvsc74a57bd04cd7ab41f5fca4b9b44701077e38c5ffd31fe66a6cab21e0214b68d958d0e462",
   "display_name": "Python 3.9.6 64-bit"
  },
  "language_info": {
   "codemirror_mode": {
    "name": "ipython",
    "version": 3
   },
   "file_extension": ".py",
   "mimetype": "text/x-python",
   "name": "python",
   "nbconvert_exporter": "python",
   "pygments_lexer": "ipython3",
   "version": "3.9.6"
  },
  "metadata": {
   "interpreter": {
    "hash": "4cd7ab41f5fca4b9b44701077e38c5ffd31fe66a6cab21e0214b68d958d0e462"
   }
  }
 },
 "nbformat": 4,
 "nbformat_minor": 4
}