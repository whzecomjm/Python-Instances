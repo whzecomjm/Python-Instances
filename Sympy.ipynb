{
 "cells": [
  {
   "cell_type": "code",
   "execution_count": 7,
   "metadata": {},
   "outputs": [
    {
     "output_type": "execute_result",
     "data": {
      "text/plain": [
       "[Eq(f(x), pi - asin(1/tanh(C1 + x))), Eq(f(x), asin(1/tanh(C1 + x)))]"
      ]
     },
     "metadata": {},
     "execution_count": 7
    }
   ],
   "source": [
    "from sympy import *\n",
    "x = symbols ('x')\n",
    "f = symbols('f', cls=Function)\n",
    "dsolve(f(x).diff(x)- cos(f(x)), f(x))"
   ]
  },
  {
   "cell_type": "code",
   "execution_count": 32,
   "metadata": {},
   "outputs": [
    {
     "output_type": "execute_result",
     "data": {
      "text/plain": [
       "[(-1, 0, 0, -1),\n",
       " (-1, 0, 0, 1),\n",
       " (-1, 0, c, 1),\n",
       " (1, 0, 0, -1),\n",
       " (1, 0, 0, 1),\n",
       " (1, 0, c, -1),\n",
       " (-d, (1 - d**2)/c, c, d)]"
      ]
     },
     "metadata": {},
     "execution_count": 32
    }
   ],
   "source": [
    "# 计算所有满足 M^2=I 的整系数矩阵, 无法使用这一方法计算 M^3\n",
    "from sympy import *\n",
    "a, b, c, d = symbols('a b c d');\n",
    "M=Matrix([[a,b],[c,d]]);\n",
    "K=M*M\n",
    "N=Matrix([[1,0],[0,1]]);\n",
    "solve(Eq(K,N),(a,b,c,d))"
   ]
  },
  {
   "cell_type": "code",
   "execution_count": 33,
   "metadata": {},
   "outputs": [],
   "source": [
    "# 计算所有满足 M^3=I 的整系数矩阵\n",
    "from sympy import *\n",
    "a, b, c, d = symbols('a b c d');\n",
    "M=Matrix([[a,b],[c,d]]);\n",
    "K=M**3\n",
    "N=Matrix([[1,0],[0,1]]);\n",
    "solve(Eq(K,N),(a,b,c,d))"
   ]
  },
  {
   "cell_type": "code",
   "execution_count": 24,
   "metadata": {},
   "outputs": [
    {
     "output_type": "execute_result",
     "data": {
      "text/plain": [
       "Matrix([\n",
       "[                              -a - (1 - a**2)/(a + 1),           (1 - a**2)/b],\n",
       "[-a*b/(a + 1) + b - b*(a + (1 - a**2)/(a + 1))/(a + 1), a + (1 - a**2)/(a + 1)]])"
      ],
      "text/latex": "$\\displaystyle \\left[\\begin{matrix}- a - \\frac{1 - a^{2}}{a + 1} & \\frac{1 - a^{2}}{b}\\\\- \\frac{a b}{a + 1} + b - \\frac{b \\left(a + \\frac{1 - a^{2}}{a + 1}\\right)}{a + 1} & a + \\frac{1 - a^{2}}{a + 1}\\end{matrix}\\right]$"
     },
     "metadata": {},
     "execution_count": 24
    }
   ],
   "source": [
    "# 计算共轭上三角，对应线性函数变化\n",
    "from sympy import *\n",
    "a, b, c, d = symbols('a b c d');\n",
    "M = Matrix([[a,b],[(1-a**2)/b,-a]])\n",
    "S = Matrix([[-b/(1+a),1],[1,0]])\n",
    "T=S.inv()\n",
    "T*M*S\n"
   ]
  },
  {
   "cell_type": "code",
   "execution_count": 15,
   "metadata": {},
   "outputs": [
    {
     "output_type": "execute_result",
     "data": {
      "text/plain": [
       "Matrix([\n",
       "[1,  4],\n",
       "[0, -1]])"
      ],
      "text/latex": "$\\displaystyle \\left[\\begin{matrix}1 & 4\\\\0 & -1\\end{matrix}\\right]$"
     },
     "metadata": {},
     "execution_count": 15
    }
   ],
   "source": [
    "# 共轭上三角实例\n",
    "from sympy import *\n",
    "M=Matrix([[3,-2],[4,-3]]) \n",
    "N=Matrix([[1,1],[1,0]])\n",
    "K=N.inv()\n",
    "K*M*N"
   ]
  },
  {
   "cell_type": "code",
   "execution_count": 27,
   "metadata": {},
   "outputs": [
    {
     "output_type": "execute_result",
     "data": {
      "text/plain": [
       "Matrix([\n",
       "[-1,  0],\n",
       "[ 0, -1]])"
      ],
      "text/latex": "$\\displaystyle \\left[\\begin{matrix}-1 & 0\\\\0 & -1\\end{matrix}\\right]$"
     },
     "metadata": {},
     "execution_count": 27
    }
   ],
   "source": [
    "# 验证 m=-1/(1+x) 虽然满足 m^3=1 但对应矩阵表示不满足. \n",
    "from sympy import *\n",
    "M = Matrix([[0,1],[(-1),1]])\n",
    "M**3"
   ]
  },
  {
   "cell_type": "code",
   "execution_count": null,
   "metadata": {},
   "outputs": [],
   "source": []
  }
 ],
 "metadata": {
  "kernelspec": {
   "name": "python396jvsc74a57bd04cd7ab41f5fca4b9b44701077e38c5ffd31fe66a6cab21e0214b68d958d0e462",
   "display_name": "Python 3.9.6 64-bit"
  },
  "language_info": {
   "codemirror_mode": {
    "name": "ipython",
    "version": 3
   },
   "file_extension": ".py",
   "mimetype": "text/x-python",
   "name": "python",
   "nbconvert_exporter": "python",
   "pygments_lexer": "ipython3",
   "version": "3.9.6"
  },
  "metadata": {
   "interpreter": {
    "hash": "4cd7ab41f5fca4b9b44701077e38c5ffd31fe66a6cab21e0214b68d958d0e462"
   }
  }
 },
 "nbformat": 4,
 "nbformat_minor": 4
}