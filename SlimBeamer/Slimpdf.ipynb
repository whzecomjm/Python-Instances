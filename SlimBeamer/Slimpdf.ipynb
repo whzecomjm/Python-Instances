{
 "cells": [
  {
   "cell_type": "code",
   "execution_count": null,
   "metadata": {},
   "outputs": [],
   "source": [
    "from pdfrw import PdfReader, PdfWriter\n",
    "\n",
    "def run_stage(src, out):\n",
    "  i = PdfReader(src)\n",
    "  o = PdfWriter()\n",
    "  sum_i = len(i.pages)\n",
    "  num_i = i.Root.PageLabels.Nums\n",
    "  for r in range(1, len(num_i) // 2):\n",
    "    o.addpage(i.pages[int(num_i[r * 2]) - 1])\n",
    "  o.addpage(i.pages[sum_i - 1])\n",
    "  o.write(out)\n",
    "\n",
    "run_stage(\"slides.pdf\", \"res.pdf\")\n"
   ]
  },
  {
   "cell_type": "code",
   "execution_count": null,
   "metadata": {},
   "outputs": [],
   "source": []
  }
 ],
 "metadata": {
  "language_info": {
   "name": "python"
  },
  "orig_nbformat": 4
 },
 "nbformat": 4,
 "nbformat_minor": 2
}
