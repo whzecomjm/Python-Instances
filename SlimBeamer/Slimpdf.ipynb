{
 "cells": [
  {
   "cell_type": "code",
   "execution_count": 2,
   "metadata": {},
   "outputs": [],
   "source": [
    "from pdfrw import PdfReader, PdfWriter\n",
    "\n",
    "def run_stage(src, out):\n",
    "  i = PdfReader(src)\n",
    "  o = PdfWriter()\n",
    "  sum_i = len(i.pages)\n",
    "  num_i = i.Root.PageLabels.Nums\n",
    "  for r in range(1, len(num_i) // 2):\n",
    "    o.addpage(i.pages[int(num_i[r * 2]) - 1])\n",
    "  o.addpage(i.pages[sum_i - 1])\n",
    "  o.write(out)\n",
    "\n",
    "run_stage(\"slides.pdf\", \"res.pdf\")\n"
   ]
  },
  {
   "cell_type": "code",
   "execution_count": null,
   "metadata": {},
   "outputs": [],
   "source": []
  }
 ],
 "metadata": {
  "kernelspec": {
   "display_name": "Python 3.9.6 64-bit",
   "language": "python",
   "name": "python3"
  },
  "language_info": {
   "codemirror_mode": {
    "name": "ipython",
    "version": 3
   },
   "file_extension": ".py",
   "mimetype": "text/x-python",
   "name": "python",
   "nbconvert_exporter": "python",
   "pygments_lexer": "ipython3",
   "version": "3.9.6"
  },
  "orig_nbformat": 4,
  "vscode": {
   "interpreter": {
    "hash": "949777d72b0d2535278d3dc13498b2535136f6dfe0678499012e853ee9abcab1"
   }
  }
 },
 "nbformat": 4,
 "nbformat_minor": 2
}
