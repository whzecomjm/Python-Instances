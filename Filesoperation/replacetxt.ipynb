{
 "cells": [
  {
   "cell_type": "markdown",
   "metadata": {},
   "source": [
    "# 文件的读取与写入\n",
    "\n",
    "首先我们给出一个非常有用的例子, 即文件的替换.\n"
   ]
  },
  {
   "cell_type": "code",
   "execution_count": 5,
   "metadata": {},
   "outputs": [],
   "source": [
    "# replace some words by python\n",
    "import re\n",
    "f=open(r'C:\\Users\\whzec\\Desktop\\1.md','r') #加上r是为了能使用反斜杠的地址,否则使用斜杠,或者双反斜杠.\n",
    "alllines=f.readlines()\n",
    "f.close()\n",
    "f=open(r'C:\\Users\\whzec\\Desktop\\1.md','w+')\n",
    "for eachline in alllines:\n",
    "    a=re.sub('List','cctvcctv',eachline)\n",
    "    f.writelines(a)\n",
    "f.close()"
   ]
  },
  {
   "cell_type": "code",
   "execution_count": null,
   "metadata": {},
   "outputs": [],
   "source": []
  }
 ],
 "metadata": {
  "kernelspec": {
   "display_name": "Python 3",
   "language": "python",
   "name": "python3"
  },
  "language_info": {
   "codemirror_mode": {
    "name": "ipython",
    "version": 3
   },
   "file_extension": ".py",
   "mimetype": "text/x-python",
   "name": "python",
   "nbconvert_exporter": "python",
   "pygments_lexer": "ipython3",
   "version": "3.7.0"
  }
 },
 "nbformat": 4,
 "nbformat_minor": 2
}
