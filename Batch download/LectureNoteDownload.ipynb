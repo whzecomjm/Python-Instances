{
 "cells": [
  {
   "cell_type": "markdown",
   "metadata": {},
   "source": [
    "# 批量下载 pdf 讲义\n",
    "\n",
    "以 Solomyak 的 GMT and Fractals 的课程为例。\n",
    "\n",
    "urlretrieve 用来保存文件, py3 在 urllib.request内, py2在urllib"
   ]
  },
  {
   "cell_type": "code",
   "execution_count": 23,
   "metadata": {},
   "outputs": [
    {
     "name": "stdout",
     "output_type": "stream",
     "text": [
      "http://u.math.biu.ac.il/~solomyb/TEACH/18/GMT/syll.pdf\n",
      "\n",
      "http://u.math.biu.ac.il/~solomyb/TEACH/18/GMT/hw1.pdf\n",
      "\n",
      "http://u.math.biu.ac.il/~solomyb/TEACH/18/GMT/hw2.pdf\n",
      "\n",
      "http://u.math.biu.ac.il/~solomyb/TEACH/18/GMT/hw2a.pdf\n",
      "\n",
      "http://u.math.biu.ac.il/~solomyb/TEACH/18/GMT/hw3.pdf\n",
      "\n",
      "http://u.math.biu.ac.il/~solomyb/TEACH/18/GMT/hw3a.pdf\n",
      "\n",
      "http://u.math.biu.ac.il/~solomyb/TEACH/18/GMT/hw4.pdf\n",
      "\n",
      "http://u.math.biu.ac.il/~solomyb/TEACH/18/GMT/Lec1.pdf\n",
      "\n",
      "http://u.math.biu.ac.il/~solomyb/TEACH/18/GMT/Lec2.pdf\n",
      "\n",
      "http://u.math.biu.ac.il/~solomyb/TEACH/18/GMT/Lec3.pdf\n",
      "\n",
      "http://u.math.biu.ac.il/~solomyb/TEACH/18/GMT/Lec4.pdf\n",
      "\n",
      "http://u.math.biu.ac.il/~solomyb/TEACH/18/GMT/Lec5.pdf\n",
      "\n",
      "http://u.math.biu.ac.il/~solomyb/TEACH/18/GMT/Lec6.pdf\n",
      "\n",
      "http://u.math.biu.ac.il/~solomyb/TEACH/18/GMT/Lec7.pdf\n",
      "\n",
      "http://u.math.biu.ac.il/~solomyb/TEACH/18/GMT/Lec8.pdf\n",
      "\n",
      "http://u.math.biu.ac.il/~solomyb/TEACH/18/GMT/Lec9.pdf\n",
      "\n",
      "http://u.math.biu.ac.il/~solomyb/TEACH/18/GMT/Lec10.pdf\n",
      "\n",
      "http://u.math.biu.ac.il/~solomyb/TEACH/18/GMT/Lec11.pdf\n",
      "\n",
      "http://u.math.biu.ac.il/~solomyb/TEACH/18/GMT/Bernotes.pdf\n",
      "\n"
     ]
    }
   ],
   "source": [
    "from urllib import request\n",
    "from bs4 import BeautifulSoup\n",
    "import re\n",
    "\n",
    "url=r'http://u.math.biu.ac.il/~solomyb/TEACH/18/GMT/index.html'\n",
    "link=r'http://u.math.biu.ac.il/~solomyb/TEACH/18/GMT/'\n",
    "\n",
    "# proxy={'http':'http://localhost:80'}\n",
    "headers = (\"User-Agent\",\" Mozilla/5.0 (Windows NT 10.0; WOW64) AppleWebKit/537.36 (KHTML, like Gecko) Chrome/66.0.3359.139 Safari/537.36\")  #这里模拟浏览器  \n",
    "opener = request.build_opener()  \n",
    "opener.addheaders = [headers]\n",
    "request.install_opener(opener)\n",
    "# 添加 header 模拟浏览器, 可兼容 urlretrieve.\n",
    "\n",
    "contents = request.urlopen(url).read().decode()\n",
    "soup = BeautifulSoup(contents,\"html.parser\")\n",
    "for tag in soup.find_all('a'): \n",
    "    pdf = tag.get('href')\n",
    "    pdfurl = link+pdf\n",
    "    print(pdfurl+\"\\n\")\n",
    "    pdfdir = '/Users/whzecomjm/Desktop/'+pdf\n",
    "    #request.urlretrieve(pdfurl,pdfdir)"
   ]
  },
  {
   "cell_type": "markdown",
   "metadata": {},
   "source": [
    "# 下载计算共形几何清华讲义\n",
    "\n",
    "链接地址： https://mp.weixin.qq.com/s/H9MBGEBw8T6BwcUnBcARDg\n",
    "\n",
    "参考 https://blog.csdn.net/qq_36369941/java/article/details/88411464"
   ]
  },
  {
   "cell_type": "code",
   "execution_count": 21,
   "metadata": {
    "scrolled": false
   },
   "outputs": [
    {
     "name": "stdout",
     "output_type": "stream",
     "text": [
      "《计算共形几何-理论篇》教程简介\n",
      "十年磨一剑：《计算共形几何（理论篇）》即将出版\n",
      "几何为万物赋能——建筑、医疗、动漫、游戏…… | 凤凰卫视世纪大讲堂\n",
      "清华笔记：计算共形几何讲义 (0) 背景简介\n",
      "清华笔记：计算共形几何讲义 （1）代数拓扑\n",
      "清华笔记：计算共形几何讲义 （2）代数拓扑\n",
      "清华笔记：计算共形几何讲义 （3）微分拓扑\n",
      "清华笔记：计算共形几何讲义 （4）单纯同调\n",
      "清华笔记：计算共形几何讲义 （4.5）相对同调 Mayer-Vietoris 序列\n",
      "清华笔记：计算共形几何讲义 （5）上同调理论\n",
      "清华笔记：计算共形几何讲义 （6）上同调的霍奇理论\n",
      "清华笔记：计算共形几何讲义 （7）矢量场设计\n",
      "清华笔记：计算共形几何讲义 （8）狭缝映射（Slit Map）的存在性\n",
      "清华笔记：计算共形几何讲义 （9）全纯微分\n",
      "清华笔记：计算共形几何讲义 （10）纪念米尔扎哈尼——泰希米勒（Teichmuller）空间\n",
      "清华笔记：计算共形几何讲义 （11）黎曼映照（Riemann Mapping）的存在性\n",
      "清华笔记：计算共形几何讲义 （12）极值长度\n",
      "清华笔记：计算共形几何讲义 （13）Koebe 迭代收敛性\n",
      "清华笔记：计算共形几何讲义 （14）共形模的计算\n",
      "清华笔记：计算共形几何讲义 （15）拓扑圆盘的调和映照\n",
      "清华笔记：计算共形几何讲义 （16）拓扑球面的调和映照\n",
      "清华笔记：计算共形几何讲义 （17）全纯二次微分（holomorphic quadratic differential）\n",
      "清华笔记：计算共形几何讲义 （18）拟共形映射（Quasi-Conformal Map）\n",
      "离散曲面曲率流 （Discrete Surface Ricci Flow ) I\n",
      "清华笔记：计算共形几何讲义 （20）离散曲面曲率流 （Discrete Surface Ricci Flow）II\n",
      "清华笔记：计算共形几何讲义 （21）离散曲面曲率流 （Discrete Surface Ricci Flow）III\n",
      "清华笔记：计算共形几何讲义 （22）离散曲面曲率流 （Discrete Surface Ricci Flow）IV\n",
      "清华笔记：计算共形几何讲义 （23）离散曲面曲率流 （Discrete Surface Ricci Flow）V\n",
      "清华笔记：计算共形几何讲义 （24）Teichmuller 映射\n",
      "清华笔记：计算共形几何讲义 (25) 共形几何的概率解释\n",
      "清华笔记：计算共形几何讲义 (26) 单值化定理证明\n",
      "计算共形几何讲义：纤维丛和陈类\n",
      "计算共形几何讲义：阿贝尔定理\n",
      "计算共形几何讲义：雅可比定理\n",
      "计算共形几何讲义：黎曼-罗赫定理\n"
     ]
    }
   ],
   "source": [
    "from urllib import request\n",
    "from bs4 import BeautifulSoup\n",
    "import re\n",
    "\n",
    "url=r'https://mp.weixin.qq.com/s/H9MBGEBw8T6BwcUnBcARDg'\n",
    "\n",
    "headers = (\"User-Agent\",\" Mozilla/5.0 (Windows NT 10.0; WOW64) AppleWebKit/537.36 (KHTML, like Gecko) Chrome/66.0.3359.139 Safari/537.36\")  #这里模拟浏览器  \n",
    "opener = request.build_opener()  \n",
    "opener.addheaders = [headers]\n",
    "request.install_opener(opener)\n",
    "# 添加 header 模拟浏览器, 可兼容 urlretrieve.\n",
    "\n",
    "contents = request.urlopen(url).read().decode()\n",
    "soup = BeautifulSoup(contents,\"html.parser\")\n",
    "urls_li = soup.select(\"#js_content > ol > li\")\n",
    "for url_li in urls_li: \n",
    "    aurl = url_li.select('a')\n",
    "    for url in aurl:\n",
    "            url_href = url.get(\"href\")\n",
    "            url_title = url.string\n",
    "            if url_title != None:\n",
    "                ddir = '/Users/whzecomjm/Desktop/'+url_title+'.html'\n",
    "                print(url_title)\n",
    "#                print(url_href)\n",
    "#                request.urlretrieve(url_href,ddir)\n",
    "\n"
   ]
  }
 ],
 "metadata": {
  "kernelspec": {
   "display_name": "Python 3",
   "language": "python",
   "name": "python3"
  },
  "language_info": {
   "codemirror_mode": {
    "name": "ipython",
    "version": 3
   },
   "file_extension": ".py",
   "mimetype": "text/x-python",
   "name": "python",
   "nbconvert_exporter": "python",
   "pygments_lexer": "ipython3",
   "version": "3.7.7"
  }
 },
 "nbformat": 4,
 "nbformat_minor": 2
}
