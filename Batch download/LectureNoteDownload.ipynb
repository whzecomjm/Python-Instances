{
 "cells": [
  {
   "cell_type": "code",
   "execution_count": 10,
   "metadata": {},
   "outputs": [
    {
     "name": "stdout",
     "output_type": "stream",
     "text": [
      "http://u.math.biu.ac.il/~solomyb/TEACH/18/GMT/syll.pdf\n",
      "\n",
      "http://u.math.biu.ac.il/~solomyb/TEACH/18/GMT/hw1.pdf\n",
      "\n",
      "http://u.math.biu.ac.il/~solomyb/TEACH/18/GMT/hw2.pdf\n",
      "\n",
      "http://u.math.biu.ac.il/~solomyb/TEACH/18/GMT/hw2a.pdf\n",
      "\n",
      "http://u.math.biu.ac.il/~solomyb/TEACH/18/GMT/hw3.pdf\n",
      "\n",
      "http://u.math.biu.ac.il/~solomyb/TEACH/18/GMT/hw3a.pdf\n",
      "\n",
      "http://u.math.biu.ac.il/~solomyb/TEACH/18/GMT/hw4.pdf\n",
      "\n",
      "http://u.math.biu.ac.il/~solomyb/TEACH/18/GMT/Lec1.pdf\n",
      "\n",
      "http://u.math.biu.ac.il/~solomyb/TEACH/18/GMT/Lec2.pdf\n",
      "\n",
      "http://u.math.biu.ac.il/~solomyb/TEACH/18/GMT/Lec3.pdf\n",
      "\n",
      "http://u.math.biu.ac.il/~solomyb/TEACH/18/GMT/Lec4.pdf\n",
      "\n",
      "http://u.math.biu.ac.il/~solomyb/TEACH/18/GMT/Lec5.pdf\n",
      "\n",
      "http://u.math.biu.ac.il/~solomyb/TEACH/18/GMT/Lec6.pdf\n",
      "\n",
      "http://u.math.biu.ac.il/~solomyb/TEACH/18/GMT/Lec7.pdf\n",
      "\n",
      "http://u.math.biu.ac.il/~solomyb/TEACH/18/GMT/Lec8.pdf\n",
      "\n",
      "http://u.math.biu.ac.il/~solomyb/TEACH/18/GMT/Lec9.pdf\n",
      "\n",
      "http://u.math.biu.ac.il/~solomyb/TEACH/18/GMT/Lec10.pdf\n",
      "\n",
      "http://u.math.biu.ac.il/~solomyb/TEACH/18/GMT/Lec11.pdf\n",
      "\n",
      "http://u.math.biu.ac.il/~solomyb/TEACH/18/GMT/Bernotes.pdf\n",
      "\n"
     ]
    }
   ],
   "source": [
    "from urllib import request\n",
    "from bs4 import BeautifulSoup\n",
    "import re\n",
    "\n",
    "url=r'http://u.math.biu.ac.il/~solomyb/TEACH/18/GMT/index.html'\n",
    "link=r'http://u.math.biu.ac.il/~solomyb/TEACH/18/GMT/'\n",
    "\n",
    "# proxy={'http':'http://localhost:80'}\n",
    "headers = (\"User-Agent\",\" Mozilla/5.0 (Windows NT 10.0; WOW64) AppleWebKit/537.36 (KHTML, like Gecko) Chrome/66.0.3359.139 Safari/537.36\")  #这里模拟浏览器  \n",
    "opener = request.build_opener()  \n",
    "opener.addheaders = [headers]\n",
    "request.install_opener(opener)\n",
    "# 添加 header 模拟浏览器, 可兼容 urlretrieve.\n",
    "\n",
    "contents = request.urlopen(url).read().decode()\n",
    "soup = BeautifulSoup(contents,\"html.parser\")\n",
    "n=1\n",
    "for tag in soup.find_all('a'): \n",
    "    pdf = tag.get('href')\n",
    "    pdfurl = link+pdf\n",
    "    print(pdfurl+\"\\n\")\n",
    "    pdfdir = 'C:/Users/whzec/Desktop/'+pdf\n",
    "    request.urlretrieve(pdfurl,pdfdir)\n",
    "    n=n+1\n",
    "\n",
    "# urlretrieve 用来保存文件, py3 在 urllib.request内, py2在urllib"
   ]
  },
  {
   "cell_type": "code",
   "execution_count": null,
   "metadata": {},
   "outputs": [],
   "source": []
  }
 ],
 "metadata": {
  "kernelspec": {
   "display_name": "Python 3",
   "language": "python",
   "name": "python3"
  },
  "language_info": {
   "codemirror_mode": {
    "name": "ipython",
    "version": 3
   },
   "file_extension": ".py",
   "mimetype": "text/x-python",
   "name": "python",
   "nbconvert_exporter": "python",
   "pygments_lexer": "ipython3",
   "version": "3.7.0"
  }
 },
 "nbformat": 4,
 "nbformat_minor": 2
}
