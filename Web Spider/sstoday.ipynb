{
 "cells": [
  {
   "cell_type": "code",
   "execution_count": 1,
   "metadata": {},
   "outputs": [
    {
     "name": "stdout",
     "output_type": "stream",
     "text": [
      "https://ss.freess.today/img/portfolio/ss1_K1fG0.png\n",
      "\n",
      "https://ss.freess.today/img/portfolio/ss2_SzXls.png\n",
      "\n",
      "https://ss.freess.today/img/portfolio/ss3_FJndJ.png\n",
      "\n",
      "https://ss.freess.today/img/portfolio/ssr1_ftPHo.png\n",
      "\n",
      "https://ss.freess.today/img/portfolio/ssr2_prfeN.png\n",
      "\n",
      "https://ss.freess.today/img/portfolio/ssr3_wb1Yq.png\n",
      "\n"
     ]
    }
   ],
   "source": [
    "from urllib import request\n",
    "from bs4 import BeautifulSoup\n",
    "import re\n",
    "\n",
    "url='https://ss.freess.today/'\n",
    "\n",
    "# proxy={'http':'http://localhost:80'}\n",
    "headers = (\"User-Agent\",\" Mozilla/5.0 (Windows NT 10.0; WOW64) AppleWebKit/537.36 (KHTML, like Gecko) Chrome/66.0.3359.139 Safari/537.36\")  #这里模拟浏览器  \n",
    "opener = request.build_opener()  \n",
    "opener.addheaders = [headers]\n",
    "request.install_opener(opener)\n",
    "# 添加 header 模拟浏览器, 可兼容 urlretrieve.\n",
    "\n",
    "contents = request.urlopen(url).read().decode()\n",
    "soup = BeautifulSoup(contents,\"html.parser\")\n",
    "n=1\n",
    "for tag in soup.find_all('div',class_='shot-item'):\n",
    "    img = tag.find('a').get('href')\n",
    "    imgurl = 'https://ss.freess.today/'+img\n",
    "    print(imgurl+\"\\n\")\n",
    "    if n<=3:\n",
    "        imgdir = 'C:/Users/whzec/Desktop/'+'ss-%d'% n+'.png'\n",
    "    else:\n",
    "        imgdir = 'C:/Users/whzec/Desktop/'+'ssr-%d'% int(n-3) +'.png'\n",
    "    request.urlretrieve(imgurl,imgdir)\n",
    "    n=n+1\n",
    "\n",
    "# urlretrieve 用来保存文件, py3 在 urllib.request内, py2在urllib"
   ]
  },
  {
   "cell_type": "code",
   "execution_count": null,
   "metadata": {},
   "outputs": [],
   "source": []
  }
 ],
 "metadata": {
  "kernelspec": {
   "display_name": "Python 3",
   "language": "python",
   "name": "python3"
  },
  "language_info": {
   "codemirror_mode": {
    "name": "ipython",
    "version": 3
   },
   "file_extension": ".py",
   "mimetype": "text/x-python",
   "name": "python",
   "nbconvert_exporter": "python",
   "pygments_lexer": "ipython3",
   "version": "3.7.0"
  }
 },
 "nbformat": 4,
 "nbformat_minor": 2
}
