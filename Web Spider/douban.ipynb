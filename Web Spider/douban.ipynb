{
 "cells": [
  {
   "cell_type": "markdown",
   "metadata": {},
   "source": [
    "# 提取豆瓣电影Top250"
   ]
  },
  {
   "cell_type": "code",
   "execution_count": 1,
   "metadata": {
    "scrolled": true
   },
   "outputs": [
    {
     "name": "stdout",
     "output_type": "stream",
     "text": [
      "你想要看豆瓣电影TOP榜单的前几名(小于等于250且最好是25的倍数):100\n",
      "请查看文件douban-top-100!\n"
     ]
    }
   ],
   "source": [
    "#coding:utf-8  \n",
    "# 文件导出版本\n",
    "''''' \n",
    "@author: jsjxy \n",
    "@origin: https://www.cnblogs.com/xisheng/p/9130156.html\n",
    "'''  \n",
    "from urllib import request \n",
    "from bs4 import BeautifulSoup  \n",
    "import re\n",
    "#from distutils.filelist import findall   \n",
    "\n",
    "def doubantop(N):\n",
    "    with open('./douban-top-%s.txt'%str(N),'w') as f:\n",
    "        f.write(\"豆瓣电影TOP\"+str(N)+'\\n') \n",
    "        f.write('%-13s%-5s%-15s%-40s\\n'%('影片名','评分','评价人数','链接'))\n",
    "        for n in range(N//25):\n",
    "            url = 'https://movie.douban.com/top250?start='+str(25*n)+'&filter='  \n",
    "            page = request.urlopen(url)   \n",
    "            contents = page.read()   \n",
    "         #print(contents)  \n",
    "            soup = BeautifulSoup(contents,\"html.parser\")  \n",
    "\n",
    "            for tag in soup.find_all('div', class_='info'):    \n",
    "               # print tag  \n",
    "                m_name = tag.find('span', class_='title').get_text()        \n",
    "                m_rating_score = float(tag.find('span',class_='rating_num').get_text())          \n",
    "                m_people = tag.find('div',class_=\"star\")  \n",
    "                m_span = m_people.findAll('span')  \n",
    "                m_peoplecount = re.sub(r'[^0-9]','',m_span[3].contents[0])\n",
    "                # 剔除了`人评价`字样, 只保留人数数字\n",
    "                m_url=tag.find('a').get('href')  \n",
    "                f.write('%s\\t%s\\t%s\\t%s\\n'% (m_name,str(m_rating_score), m_peoplecount ,m_url) )\n",
    "            n=n+1\n",
    "    print('请查看文件douban-top-%s!' %str(N))\n",
    "\n",
    "num = input(\"你想要看豆瓣电影TOP榜单的前几名(小于等于250且最好是25的倍数):\")\n",
    "num = int(num)\n",
    "doubantop(num)\n"
   ]
  },
  {
   "cell_type": "code",
   "execution_count": 13,
   "metadata": {
    "scrolled": false
   },
   "outputs": [
    {
     "name": "stdout",
     "output_type": "stream",
     "text": [
      "豆瓣电影TOP 1 - 30\n",
      "影片名          评分   评价人数           链接                                      \n",
      "\n",
      "肖申克的救赎\t9.6\t1288574\thttps://movie.douban.com/subject/1292052/\n",
      "\n",
      "霸王别姬\t9.6\t951218\thttps://movie.douban.com/subject/1291546/\n",
      "\n",
      "这个杀手不太冷\t9.4\t1182952\thttps://movie.douban.com/subject/1295644/\n",
      "\n",
      "阿甘正传\t9.4\t1015734\thttps://movie.douban.com/subject/1292720/\n",
      "\n",
      "美丽人生\t9.5\t594513\thttps://movie.douban.com/subject/1292063/\n",
      "\n",
      "泰坦尼克号\t9.3\t951937\thttps://movie.douban.com/subject/1292722/\n",
      "\n",
      "千与千寻\t9.3\t944451\thttps://movie.douban.com/subject/1291561/\n",
      "\n",
      "辛德勒的名单\t9.5\t532059\thttps://movie.douban.com/subject/1295124/\n",
      "\n",
      "盗梦空间\t9.3\t1026845\thttps://movie.douban.com/subject/3541415/\n",
      "\n",
      "机器人总动员\t9.3\t683063\thttps://movie.douban.com/subject/2131459/\n",
      "\n",
      "忠犬八公的故事\t9.3\t671461\thttps://movie.douban.com/subject/3011091/\n",
      "\n",
      "三傻大闹宝莱坞\t9.2\t921705\thttps://movie.douban.com/subject/3793023/\n",
      "\n",
      "海上钢琴师\t9.2\t765462\thttps://movie.douban.com/subject/1292001/\n",
      "\n",
      "放牛班的春天\t9.3\t635757\thttps://movie.douban.com/subject/1291549/\n",
      "\n",
      "大话西游之大圣娶亲\t9.2\t707374\thttps://movie.douban.com/subject/1292213/\n",
      "\n",
      "楚门的世界\t9.2\t691053\thttps://movie.douban.com/subject/1292064/\n",
      "\n",
      "龙猫\t9.2\t623627\thttps://movie.douban.com/subject/1291560/\n",
      "\n",
      "星际穿越\t9.2\t701880\thttps://movie.douban.com/subject/1889243/\n",
      "\n",
      "教父\t9.2\t465133\thttps://movie.douban.com/subject/1291841/\n",
      "\n",
      "熔炉\t9.3\t403040\thttps://movie.douban.com/subject/5912992/\n",
      "\n",
      "无间道\t9.1\t581480\thttps://movie.douban.com/subject/1307914/\n",
      "\n",
      "当幸福来敲门\t9.0\t745379\thttps://movie.douban.com/subject/1849031/\n",
      "\n",
      "疯狂动物城\t9.2\t781539\thttps://movie.douban.com/subject/25662329/\n",
      "\n",
      "触不可及\t9.2\t491584\thttps://movie.douban.com/subject/6786002/\n",
      "\n",
      "怦然心动\t9.0\t810776\thttps://movie.douban.com/subject/3319755/\n",
      "\n",
      "乱世佳人\t9.2\t349486\thttps://movie.douban.com/subject/1300267/\n",
      "\n",
      "蝙蝠侠：黑暗骑士\t9.1\t469114\thttps://movie.douban.com/subject/1851857/\n",
      "\n",
      "活着\t9.2\t382700\thttps://movie.douban.com/subject/1292365/\n",
      "\n",
      "天堂电影院\t9.1\t380814\thttps://movie.douban.com/subject/1291828/\n",
      "\n",
      "少年派的奇幻漂流\t9.0\t755425\thttps://movie.douban.com/subject/1929463/\n",
      "\n"
     ]
    }
   ],
   "source": [
    "# print 查看版本\n",
    "#coding:utf-8  \n",
    "''''' \n",
    "@author: jsjxy \n",
    "@origin: https://www.cnblogs.com/xisheng/p/9130156.html\n",
    "'''  \n",
    "from urllib import request \n",
    "from bs4 import BeautifulSoup  \n",
    "import re\n",
    "#from distutils.filelist import findall   \n",
    "\n",
    "all_list = []\n",
    "for n in range(10):\n",
    "    url = 'https://movie.douban.com/top250?start='+str(25*n)+'&filter='  \n",
    "    page = request.urlopen(url)   \n",
    "    contents = page.read()   \n",
    " #print(contents)  \n",
    "    soup = BeautifulSoup(contents,\"html.parser\")  \n",
    "    for tag in soup.find_all('div', class_='info'):    \n",
    "       # print tag  \n",
    "        m_name = tag.find('span', class_='title').get_text()        \n",
    "        m_rating_score = float(tag.find('span',class_='rating_num').get_text())          \n",
    "        m_people = tag.find('div',class_=\"star\")  \n",
    "        m_span = m_people.findAll('span')  \n",
    "        m_peoplecount = re.sub(r'[^0-9]','',m_span[3].contents[0])\n",
    "        # 剔除了`人评价`字样, 只保留人数数字\n",
    "        m_url=tag.find('a').get('href')  \n",
    "        all_list.append('%s\\t%s\\t%s\\t%s\\n'% (m_name,str(m_rating_score), m_peoplecount ,m_url)) \n",
    "\n",
    "\n",
    "\n",
    "def doubantop(N,n=1):\n",
    "    print(\"豆瓣电影TOP \"+str(n)+' - '+str(N)+'\\n'+'%-13s%-5s%-15s%-40s\\n'%('影片名','评分','评价人数','链接'))\n",
    "    for movie in all_list[n-1:N]:\n",
    "        print(movie)\n",
    "        \n",
    "\n",
    "\n",
    "#num = input(\"你想要看豆瓣电影TOP250榜单的范围\")\n",
    "#num = int(num)\n",
    "doubantop(30)\n",
    "\n"
   ]
  },
  {
   "cell_type": "code",
   "execution_count": null,
   "metadata": {},
   "outputs": [],
   "source": []
  }
 ],
 "metadata": {
  "kernelspec": {
   "display_name": "Python 3",
   "language": "python",
   "name": "python3"
  },
  "language_info": {
   "codemirror_mode": {
    "name": "ipython",
    "version": 3
   },
   "file_extension": ".py",
   "mimetype": "text/x-python",
   "name": "python",
   "nbconvert_exporter": "python",
   "pygments_lexer": "ipython3",
   "version": "3.7.0"
  }
 },
 "nbformat": 4,
 "nbformat_minor": 2
}
