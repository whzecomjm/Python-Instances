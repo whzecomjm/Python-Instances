{
 "cells": [
  {
   "cell_type": "markdown",
   "metadata": {},
   "source": [
    "## itertools\n"
   ]
  },
  {
   "cell_type": "code",
   "execution_count": 7,
   "metadata": {},
   "outputs": [
    {
     "data": {
      "text/plain": [
       "3.140592653839794"
      ]
     },
     "execution_count": 7,
     "metadata": {},
     "output_type": "execute_result"
    }
   ],
   "source": [
    "# 使用交错级数计算pi\n",
    "import itertools\n",
    "from functools import reduce\n",
    "def pi(N):\n",
    "    cc = itertools.cycle([4, -4])\n",
    "    odds = itertools.count(1,2)\n",
    "    ns = list(itertools.takewhile(lambda x: x <= 2*N-1, odds))\n",
    "    pp = reduce(lambda x, y: x + y, map(lambda x: next(cc)/x, ns))\n",
    "    return pp\n",
    "\n",
    "pi(1000)"
   ]
  },
  {
   "cell_type": "code",
   "execution_count": 9,
   "metadata": {},
   "outputs": [
    {
     "data": {
      "text/plain": [
       "3.0418396189294032"
      ]
     },
     "execution_count": 9,
     "metadata": {},
     "output_type": "execute_result"
    }
   ],
   "source": [
    "import itertools\n",
    "\n",
    "def pi(N):\n",
    "    odd = itertools.count(1, 2)\n",
    "    o = itertools.takewhile(lambda x: x < 2 * N, odd)\n",
    "    c = itertools.cycle([4, -4])\n",
    "    p = sum([next(c) / i for i in o])\n",
    "    return p\n",
    "\n",
    "pi(10)"
   ]
  },
  {
   "cell_type": "code",
   "execution_count": 26,
   "metadata": {},
   "outputs": [
    {
     "data": {
      "text/plain": [
       "4"
      ]
     },
     "execution_count": 26,
     "metadata": {},
     "output_type": "execute_result"
    }
   ],
   "source": [
    "100//25"
   ]
  },
  {
   "cell_type": "code",
   "execution_count": null,
   "metadata": {},
   "outputs": [],
   "source": []
  }
 ],
 "metadata": {
  "kernelspec": {
   "display_name": "Python 3",
   "language": "python",
   "name": "python3"
  },
  "language_info": {
   "codemirror_mode": {
    "name": "ipython",
    "version": 3
   },
   "file_extension": ".py",
   "mimetype": "text/x-python",
   "name": "python",
   "nbconvert_exporter": "python",
   "pygments_lexer": "ipython3",
   "version": "3.7.0"
  }
 },
 "nbformat": 4,
 "nbformat_minor": 2
}
