{
 "cells": [
  {
   "cell_type": "markdown",
   "metadata": {},
   "source": [
    "## itertools\n"
   ]
  },
  {
   "cell_type": "code",
   "execution_count": 12,
   "metadata": {},
   "outputs": [
    {
     "output_type": "execute_result",
     "data": {
      "text/plain": "3.1315929035585537"
     },
     "metadata": {},
     "execution_count": 12
    }
   ],
   "source": [
    "# 使用交错级数计算pi\n",
    "import itertools\n",
    "from functools import reduce\n",
    "def pi(N):\n",
    "    cc = itertools.cycle([4, -4])\n",
    "    odds = itertools.count(1,2)\n",
    "    ns = list(itertools.takewhile(lambda x: x <= 2*N-1, odds))\n",
    "    pp = reduce(lambda x, y: x + y, map(lambda x: next(cc)/x, ns))\n",
    "    return pp\n",
    "\n",
    "pi(100)"
   ]
  },
  {
   "cell_type": "code",
   "execution_count": 13,
   "metadata": {},
   "outputs": [
    {
     "output_type": "execute_result",
     "data": {
      "text/plain": "3.0418396189294032"
     },
     "metadata": {},
     "execution_count": 13
    }
   ],
   "source": [
    "import itertools\n",
    "\n",
    "def pi(N):\n",
    "    odd = itertools.count(1, 2)\n",
    "    o = itertools.takewhile(lambda x: x < 2 * N, odd)\n",
    "    c = itertools.cycle([4, -4])\n",
    "    p = sum([next(c) / i for i in o])\n",
    "    return p\n",
    "\n",
    "pi(10)"
   ]
  },
  {
   "cell_type": "code",
   "execution_count": 14,
   "metadata": {},
   "outputs": [
    {
     "output_type": "execute_result",
     "data": {
      "text/plain": "4"
     },
     "metadata": {},
     "execution_count": 14
    }
   ],
   "source": [
    "100//25"
   ]
  }
 ],
 "metadata": {
  "kernelspec": {
   "name": "python396jvsc74a57bd04cd7ab41f5fca4b9b44701077e38c5ffd31fe66a6cab21e0214b68d958d0e462",
   "display_name": "Python 3.9.6 64-bit"
  },
  "language_info": {
   "codemirror_mode": {
    "name": "ipython",
    "version": 3
   },
   "file_extension": ".py",
   "mimetype": "text/x-python",
   "name": "python",
   "nbconvert_exporter": "python",
   "pygments_lexer": "ipython3",
   "version": "3.9.6"
  },
  "metadata": {
   "interpreter": {
    "hash": "4cd7ab41f5fca4b9b44701077e38c5ffd31fe66a6cab21e0214b68d958d0e462"
   }
  }
 },
 "nbformat": 4,
 "nbformat_minor": 2
}