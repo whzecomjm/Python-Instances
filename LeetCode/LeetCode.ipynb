{
 "cells": [
  {
   "cell_type": "markdown",
   "metadata": {},
   "source": [
    "# My LeetCode\n",
    "\n",
    "## 1. 两数之和\n",
    "\n",
    "以下的方案不能通过 LeetCode 提交，可能原因是全局变量的引入。"
   ]
  },
  {
   "cell_type": "code",
   "execution_count": 8,
   "metadata": {
    "scrolled": true
   },
   "outputs": [
    {
     "name": "stdout",
     "output_type": "stream",
     "text": [
      "[0, 3]\n"
     ]
    }
   ],
   "source": [
    "class Solution:\n",
    "    def twoSum(self, nums, target):\n",
    "        for i in range(len(nums)):\n",
    "            if target - nums[i] in nums:\n",
    "                return [i, nums.index(target-nums[i])]\n",
    "\n",
    "# test\n",
    "if __name__ == '__main__':\n",
    "    s = Solution()\n",
    "    print(s.twoSum([2,8,11,7,15],9))"
   ]
  },
  {
   "cell_type": "markdown",
   "metadata": {},
   "source": [
    "稍微修改一下代码可以得到一个标准的暴力法求解"
   ]
  },
  {
   "cell_type": "code",
   "execution_count": 10,
   "metadata": {
    "scrolled": true
   },
   "outputs": [
    {
     "name": "stdout",
     "output_type": "stream",
     "text": [
      "[0, 3]\n"
     ]
    }
   ],
   "source": [
    "class Solution:\n",
    "    def twoSum(self, nums, target):\n",
    "        for i in range(len(nums)):\n",
    "            for j in range(i,len(nums)):\n",
    "                if target == nums[i]+nums[j]:\n",
    "                    return [i,j]\n",
    "\n",
    "# test\n",
    "if __name__ == '__main__':\n",
    "    s = Solution()\n",
    "    print(s.twoSum([2,8,11,7,15],9))"
   ]
  },
  {
   "cell_type": "markdown",
   "metadata": {},
   "source": [
    "下面介绍一种双指针的方法，使得时间复杂度为 O(N)"
   ]
  },
  {
   "cell_type": "code",
   "execution_count": 33,
   "metadata": {
    "scrolled": true
   },
   "outputs": [
    {
     "name": "stdout",
     "output_type": "stream",
     "text": [
      "[0, 3]\n"
     ]
    }
   ],
   "source": [
    "class Solution:\n",
    "    def twoSum(self, nums, target):\n",
    "        temp = nums.copy()\n",
    "        # 临时列表排序，用双指针找到结果\n",
    "        temp.sort()\n",
    "        i ,j = 0, len(nums)-1\n",
    "        while i<j:\n",
    "            if (temp[i]+temp[j]>target):\n",
    "                j = j-1\n",
    "            elif (temp[i]+temp[j]<target):\n",
    "                i=i+1\n",
    "            else: break  # 此处break 是精髓\n",
    "        # 找出源列表的序数\n",
    "        a = nums.index(temp[i])\n",
    "        # 直接排序会有一个bug，即 [3,3],6 的重复情况，j依然会选择0位置，因此要去除 a   \n",
    "        nums.pop(a) \n",
    "        b = nums.index(temp[j])\n",
    "        if b>=a:\n",
    "            b =b+1\n",
    "        ans = [a,b] # 重排 index 大小，小的在前\n",
    "        ans.sort()\n",
    "        return ans\n",
    "        \n",
    "# test\n",
    "if __name__ == '__main__':\n",
    "    s = Solution()\n",
    "    print(s.twoSum([7,8,11,2,15],9))"
   ]
  },
  {
   "cell_type": "markdown",
   "metadata": {},
   "source": [
    "## 2. 两数相加\n",
    "以下我的方法是针对 List 而非 ListNode. orz"
   ]
  },
  {
   "cell_type": "code",
   "execution_count": 26,
   "metadata": {},
   "outputs": [
    {
     "name": "stdout",
     "output_type": "stream",
     "text": [
      "[1, 0, 8]\n"
     ]
    }
   ],
   "source": [
    "class Solution:\n",
    "    def addTwoNumbers(self, l1, l2):\n",
    "        num1 = 0\n",
    "        for i in range(len(l1)):\n",
    "            num1 = num1 + l1[i] * 10**(i)\n",
    "        num2 = 0\n",
    "        for j in range(len(l2)):\n",
    "            num2 = num2 + l2[j] * 10**(j)\n",
    "        nnum = num1+num2\n",
    "        return [int(x) for x in str(nnum)[::-1]]\n",
    "\n",
    "if __name__ == '__main__':\n",
    "    s = Solution()\n",
    "    print(s.addTwoNumbers([1,2,3],[0,8,4]))"
   ]
  },
  {
   "cell_type": "markdown",
   "metadata": {},
   "source": [
    "## 7. 整数反转\n",
    "使用切片 `[::-1]` 来实现反转整数，最后判定大小溢出。"
   ]
  },
  {
   "cell_type": "code",
   "execution_count": 10,
   "metadata": {
    "scrolled": true
   },
   "outputs": [
    {
     "name": "stdout",
     "output_type": "stream",
     "text": [
      "-9646321\n"
     ]
    }
   ],
   "source": [
    "class Solution:\n",
    "    def reverse(self, x: int) -> int:\n",
    "        if x>=0:\n",
    "            ans = int(str(x)[::-1])\n",
    "        else:\n",
    "            ans = -int(str(x)[:0:-1])\n",
    "        if -2**31 <= ans < 2**31:\n",
    "            return ans\n",
    "        else:\n",
    "            return 0\n",
    "\n",
    "if __name__ == '__main__':\n",
    "    s = Solution()\n",
    "    print(s.reverse(-1236469))"
   ]
  },
  {
   "cell_type": "markdown",
   "metadata": {},
   "source": [
    "## 11. 盛水最多的容器\n",
    "直接使用暴力方法得到 O(N^2) 的时间复杂度。提交时会显示超时。"
   ]
  },
  {
   "cell_type": "code",
   "execution_count": 6,
   "metadata": {},
   "outputs": [
    {
     "name": "stdout",
     "output_type": "stream",
     "text": [
      "49\n"
     ]
    }
   ],
   "source": [
    "class Solution:\n",
    "    def maxArea(self, height) -> int:\n",
    "        vol = []\n",
    "        for i in range(len(height)):\n",
    "            for j in range(i,len(height)):\n",
    "                vol.append(min(height[i],height[j])*(j-i))\n",
    "        return max(vol)\n",
    "\n",
    "height=[1,8,6,2,5,4,8,3,7]\n",
    "if __name__=='__main__':\n",
    "    s = Solution()\n",
    "    print(s.maxArea(height))"
   ]
  },
  {
   "cell_type": "markdown",
   "metadata": {},
   "source": [
    "解决方法是使用双指针。\n",
    "\n",
    "一开始两个指针一个指向开头一个指向结尾，此时容器的底是最大的，接下来随着指针向内移动，会造成容器的底变小，在这种情况下想要让容器盛水变多，就只有在容器的高上下功夫。 那我们该如何决策哪个指针移动呢？这种情况下我们想要让指针移动后的容器面积增大，就要使移动后的容器的高尽量大，所以我们选择指针所指的高较小的那个指针进行移动，这样我们就保留了容器较高的那条边，放弃了较小的那条边，以获得有更高的边的机会。\n",
    "\n",
    "时间复杂度 O(N)，双指针遍历一次底边宽度 N 。\n",
    "空间复杂度 O(1)，指针使用常数额外空间。"
   ]
  },
  {
   "cell_type": "code",
   "execution_count": 7,
   "metadata": {},
   "outputs": [
    {
     "name": "stdout",
     "output_type": "stream",
     "text": [
      "49\n"
     ]
    }
   ],
   "source": [
    "class Solution:\n",
    "    def maxArea(self, height) -> int:\n",
    "        i, j, res = 0, len(height) - 1, 0\n",
    "        while i < j:\n",
    "            if height[i] < height[j]:\n",
    "                res = max(res, height[i] * (j - i))\n",
    "                i = i+1\n",
    "            else:\n",
    "                res = max(res, height[j] * (j - i))\n",
    "                j = j-1\n",
    "        return res\n",
    "\n",
    "height=[1,8,6,2,5,4,8,3,7]\n",
    "if __name__=='__main__':\n",
    "    s = Solution()\n",
    "    print(s.maxArea(height))"
   ]
  },
  {
   "cell_type": "code",
   "execution_count": null,
   "metadata": {},
   "outputs": [],
   "source": []
  }
 ],
 "metadata": {
  "kernelspec": {
   "display_name": "Python 3",
   "language": "python",
   "name": "python3"
  },
  "language_info": {
   "codemirror_mode": {
    "name": "ipython",
    "version": 3
   },
   "file_extension": ".py",
   "mimetype": "text/x-python",
   "name": "python",
   "nbconvert_exporter": "python",
   "pygments_lexer": "ipython3",
   "version": "3.7.7"
  }
 },
 "nbformat": 4,
 "nbformat_minor": 4
}
