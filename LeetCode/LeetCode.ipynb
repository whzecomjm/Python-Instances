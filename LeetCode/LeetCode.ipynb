{
 "cells": [
  {
   "cell_type": "markdown",
   "metadata": {},
   "source": [
    "# My LeetCode\n",
    "\n",
    "## 1. 两数之和\n",
    "\n",
    "以下的方案不能通过 LeetCode 提交，可能原因是全局变量的引入。"
   ]
  },
  {
   "cell_type": "code",
   "execution_count": 30,
   "metadata": {
    "scrolled": true
   },
   "outputs": [
    {
     "name": "stdout",
     "output_type": "stream",
     "text": [
      "[0, 3]\n"
     ]
    }
   ],
   "source": [
    "class Solution:\n",
    "    def twoSum(self, nums, target):\n",
    "        for i in range(len(nums)):\n",
    "            if target - nums[i] in nums:\n",
    "                return [i, nums.index(target-nums[i])]\n",
    "\n",
    "# test\n",
    "if __name__ == '__main__':\n",
    "    s = Solution()\n",
    "    print(s.twoSum([2,8,11,7,15],9))"
   ]
  },
  {
   "cell_type": "markdown",
   "metadata": {},
   "source": [
    "## 2. 两数相加\n",
    "以下我的方法是针对 List 而非 ListNode. orz"
   ]
  },
  {
   "cell_type": "code",
   "execution_count": 26,
   "metadata": {},
   "outputs": [
    {
     "name": "stdout",
     "output_type": "stream",
     "text": [
      "[1, 0, 8]\n"
     ]
    }
   ],
   "source": [
    "class Solution:\n",
    "    def addTwoNumbers(self, l1, l2):\n",
    "        num1 = 0\n",
    "        for i in range(len(l1)):\n",
    "            num1 = num1 + l1[i] * 10**(i)\n",
    "        num2 = 0\n",
    "        for j in range(len(l2)):\n",
    "            num2 = num2 + l2[j] * 10**(j)\n",
    "        nnum = num1+num2\n",
    "        return [int(x) for x in str(nnum)[::-1]]\n",
    "\n",
    "if __name__ == '__main__':\n",
    "    s = Solution()\n",
    "    print(s.addTwoNumbers([1,2,3],[0,8,4]))"
   ]
  },
  {
   "cell_type": "markdown",
   "metadata": {},
   "source": [
    "# 7. 整数反转\n",
    "使用切片 `[::-1]` 来实现反转整数，最后判定大小溢出。"
   ]
  },
  {
   "cell_type": "code",
   "execution_count": 10,
   "metadata": {
    "scrolled": true
   },
   "outputs": [
    {
     "name": "stdout",
     "output_type": "stream",
     "text": [
      "-9646321\n"
     ]
    }
   ],
   "source": [
    "class Solution:\n",
    "    def reverse(self, x: int) -> int:\n",
    "        if x>=0:\n",
    "            ans = int(str(x)[::-1])\n",
    "        else:\n",
    "            ans = -int(str(x)[:0:-1])\n",
    "        if -2**31 <= ans < 2**31:\n",
    "            return ans\n",
    "        else:\n",
    "            return 0\n",
    "\n",
    "if __name__ == '__main__':\n",
    "    s = Solution()\n",
    "    print(s.reverse(-1236469))"
   ]
  },
  {
   "cell_type": "code",
   "execution_count": null,
   "metadata": {},
   "outputs": [],
   "source": []
  }
 ],
 "metadata": {
  "kernelspec": {
   "display_name": "Python 3",
   "language": "python",
   "name": "python3"
  },
  "language_info": {
   "codemirror_mode": {
    "name": "ipython",
    "version": 3
   },
   "file_extension": ".py",
   "mimetype": "text/x-python",
   "name": "python",
   "nbconvert_exporter": "python",
   "pygments_lexer": "ipython3",
   "version": "3.7.7"
  }
 },
 "nbformat": 4,
 "nbformat_minor": 4
}
